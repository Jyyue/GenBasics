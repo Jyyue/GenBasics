{
 "cells": [
  {
   "cell_type": "markdown",
   "metadata": {},
   "source": [
    "# Hopfield network\n",
    "\n",
    "Inmagine a series of binary neurons.\n",
    "\n",
    "Suppose we have a binary vector, that corresponding to a memory pattern(like black-white image, capitcal city- country as ascii, etc). Hopfield net is a Ising model, that has local minimum at the positive samples.\n",
    "\n",
    "$$x' = f(Wx)$$\n",
    "\n",
    "W gather signals from x, and generate new x'. The sample is stable, that is to say x' and f(Wx) is close to each other, for instance, $||x' - f(Wx)||$ is small.\n",
    "\n",
    "This similar a Ising model with $E(x) = -\\frac{1}{2}x^TWx$. This function has minimum energy of Wx = x. The difference is, in Ising model, we know the W and thus able to find the energy minimum with MCMC, or sample at finite temperatue. However, in hopfield net, we only know the x that corresponding to local minimum, the goal is to find the proper W lead to energy minimum at the samples.\n",
    "\n",
    "The algorithm for training a hopfield network:\n",
    "\n",
    "training\n",
    "1. W <- XTX initialize w by Hebb rule\n",
    "2. for t in num sample, loop (label y)\n",
    "3. calculate Wx\n",
    "4. e = f(Wx) - y\n",
    "5. grad = x^T e\n",
    "6. gw = gw + gw^T\n",
    "7. w = w + gw\n",
    "\n",
    "inference\n",
    "1. x_copt (corrupted sample)\n",
    "2. loop t times:\n",
    "3. x = f(Wx)\n",
    "4. output x, recover input sample\n"
   ]
  },
  {
   "cell_type": "markdown",
   "metadata": {},
   "source": [
    "\n",
    "# Hopfield Network 🧠\n",
    "\n",
    "## Overview\n",
    "A Hopfield network is a **content-addressable memory system** that stores binary patterns through **energy minimization**.\n",
    "\n",
    "### 🔑 Key Properties:\n",
    "- **Binary neurons** with **recurrent connections**\n",
    "- **Energy-based** dynamics (`Ising model` analogy)\n",
    "- **Associative memory** (recall from partial/noisy inputs)\n",
    "- **Guaranteed convergence** to local minima\n",
    "\n",
    "## Mathematical Formulation 🧮\n",
    "\n",
    "### Network Dynamics\n",
    "```math\n",
    "\\colorbox{#f0f8ff}{$x' = f(Wx)$}\n",
    "```\n",
    "\n",
    "Where:\n",
    "- **`x`** = binary state vector (`[1, -1]` or `[0, 1]`)\n",
    "- **`W`** = symmetric weight matrix (no self-connections: $W_{ii}=0$)\n",
    "- **`f`** = activation function (typically $\\text{sign}(\\cdot)$)\n",
    "\n",
    "### Energy Landscape ⚡\n",
    "```math\n",
    "\\colorbox{#fff0f5}{$E(x) = -\\frac{1}{2}x^TWx$}\n",
    "```\n",
    "**Stable states** satisfy: $\\color{blue}{Wx \\approx x}$\n",
    "\n",
    "## Training Algorithm 🏋️ (Hebbian Learning)\n",
    "\n",
    "```diff\n",
    "+ 1. Initialize weights (Hebb's rule):\n",
    "   W ← XᵀX (outer product of memory patterns)\n",
    "\n",
    "+ 2. For each training sample y:\n",
    "   - Compute: Wx\n",
    "   - Error: e = f(Wx) - y\n",
    "   - Gradient: ∇ = xᵀe\n",
    "   - Symmetrize: gw += gwᵀ\n",
    "   - Update: w += gw\n",
    "```\n",
    "\n",
    "## Inference Process 🔍\n",
    "\n",
    "```python\n",
    "1. Start with corrupted input x_corrupt\n",
    "2. While not converged:\n",
    "   x ← sign(Wx)  # Synchronous update\n",
    "3. Output recovered pattern x\n",
    "```\n",
    "\n",
    "### 🎨 Key Differences: Ising vs Hopfield\n",
    "\n",
    "| Feature        | Ising Model        | Hopfield Network  |\n",
    "|----------------|--------------------|-------------------|\n",
    "| **Known**      | Weight matrix W    | **Memory patterns x** |\n",
    "| **Goal**       | Find minima        | **Learn W** for target minima |\n",
    "| **Method**     | MCMC sampling      | **Hebbian learning**  |\n",
    "```\n",
    "\n",
    "### Visual Enhancements:\n",
    "1. **Color boxes** around key equations\n",
    "2. **Diff-style syntax** for algorithms\n",
    "3. **Bold highlights** on key terms\n",
    "4. **Emoji icons** for visual categorization\n",
    "5. **Alternating background** in comparison table\n",
    "\n",
    "Would you like me to:\n",
    "1. Adjust the color scheme (currently light blue/pink)?\n",
    "2. Add more visual elements like ASCII diagrams?\n",
    "3. Include a concrete example with numbers?"
   ]
  },
  {
   "cell_type": "code",
   "execution_count": 1,
   "metadata": {},
   "outputs": [],
   "source": [
    "# sample: Image 5 x 5 pixels, black and white\n",
    "import numpy as np\n",
    "\n",
    "# 修改正负\n",
    "heart = np.array([\n",
    "    [-1, 1, -1, 1, -1],\n",
    "    [1, 1, 1, 1, 1],\n",
    "    [1, 1, 1, 1, 1],\n",
    "    [-1, 1, 1, 1, -1],\n",
    "    [-1, -1, 1, -1, -1]\n",
    "])\n",
    "\n",
    "smile = np.array([\n",
    "    [-1, -1, -1, -1, -1],\n",
    "    [-1, 1, -1, 1, -1],\n",
    "    [-1, -1, -1, -1, -1],\n",
    "    [1, -1, -1, -1, 1],\n",
    "    [-1, 1, 1, 1, -1]\n",
    "])\n",
    "# 反片\n",
    "heart = -heart\n",
    "smile = -smile\n",
    "\n",
    "X = np.array([heart.flatten(), smile.flatten()])  # training set\n",
    "\n",
    "# initialized hopfield network\n",
    "\n",
    "n_samples, d_x = X.shape\n",
    "\n",
    "weights = np.zeros((d_x, d_x))\n",
    "for x in X:\n",
    "    weights += np.outer(x, x)\n",
    "weights /= n_samples\n",
    "np.fill_diagonal(weights, -1)\n",
    "\n",
    "# training\n",
    "#loops = 50\n",
    "#for l in range(loops):\n",
    "#    for x in X:\n",
    "#        grad = np.sign(weights @ x) - x\n",
    "#        weight += np.outer(grad, grad)"
   ]
  },
  {
   "cell_type": "code",
   "execution_count": 2,
   "metadata": {},
   "outputs": [
    {
     "data": {
      "image/png": "[encoded data removed]",
      "text/plain": [
       "<Figure size 1500x500 with 10 Axes>"
      ]
     },
     "metadata": {},
     "output_type": "display_data"
    }
   ],
   "source": [
    "# add noise to input\n",
    "noise_level = 5\n",
    "noises = np.arange(0, len(X[0]), noise_level)\n",
    "noises = np.array([0, 5, 8, 10, 11])\n",
    "X_noises = [X.copy() for _ in range(len(noises))]\n",
    "\n",
    "# randomly flip noise pixels\n",
    "for x_noises, noise in zip(X_noises, noises):\n",
    "    for x_noise in x_noises:\n",
    "        noise_idx = np.random.choice(d_x, noise, replace=False)\n",
    "        x_noise[noise_idx] *= -1\n",
    "\n",
    "import matplotlib.pyplot as plt\n",
    "# 创建2行6列的子图\n",
    "fig, ax = plt.subplots(len(X_noises[0]), noise_level, figsize=(15, 5))\n",
    "\n",
    "# 遍历每个样本（X[0]和X[1]）\n",
    "for row in range(2):\n",
    "    # 显示原始图像（噪声等级0）\n",
    "    #ax[row, 0].imshow(X[row].reshape(5, 5), cmap='gray')\n",
    "    #ax[row, 0].set_title(f\"Level 0\")\n",
    "    #ax[row, 0].axis('off')\n",
    "    # 显示5个噪声版本（噪声等级1~5）\n",
    "    for col in range(noise_level):\n",
    "        # 提取噪声图像\n",
    "        noisy_img = X_noises[col][row].reshape(5, 5)\n",
    "        ax[row, col].imshow(noisy_img, cmap='gray')\n",
    "        ax[row, col].set_title(f\"Level {col}\")\n",
    "        ax[row, col].axis('off')\n",
    "\n",
    "plt.tight_layout()  # 自动调整子图间距\n",
    "plt.show()\n"
   ]
  },
  {
   "cell_type": "code",
   "execution_count": 3,
   "metadata": {},
   "outputs": [
    {
     "data": {
      "image/png": "[encoded data removed]",
      "text/plain": [
       "<Figure size 1500x500 with 10 Axes>"
      ]
     },
     "metadata": {},
     "output_type": "display_data"
    }
   ],
   "source": [
    "# 对所有sample去燥\n",
    "\n",
    "def hopfield_denoise(x_noisy, weights, max_iter=100):\n",
    "    x = x_noisy.copy()\n",
    "    for i in range(n_samples):\n",
    "        for _ in range(max_iter):\n",
    "            x_next = np.sign(weights @ x)\n",
    "            if np.all(x == x_next):\n",
    "                break\n",
    "            x = x_next\n",
    "    return x\n",
    "\n",
    "# solve all samples\n",
    "X_denoised = [np.array([hopfield_denoise(x_noisy, weights) for x_noisy in X_noises[i]]) for i in range(len(noises))]\n",
    "\n",
    "\n",
    "import matplotlib.pyplot as plt\n",
    "# 创建2行6列的子图\n",
    "fig, ax = plt.subplots(len(X_noises[0]), noise_level, figsize=(15, 5))\n",
    "# 遍历每个样本（X[0]和X[1]）\n",
    "for row in range(2):\n",
    "    # 显示原始图像（噪声等级0）\n",
    "    #x[row, 0].imshow(X[row].reshape(5, 5), cmap='gray')\n",
    "    #ax[row, 0].set_title(f\"Level 0\")\n",
    "    #ax[row, 0].axis('off')\n",
    "    # 显示5个噪声版本（噪声等级1~5）\n",
    "    for col in range(noise_level):\n",
    "        # 提取噪声图像\n",
    "        denoised_img = X_denoised[col][row].reshape(5, 5)\n",
    "        ax[row, col].imshow(denoised_img, cmap='gray')\n",
    "        ax[row, col].set_title(f\"Level {col}\")\n",
    "        ax[row, col].axis('off')\n",
    "\n",
    "plt.tight_layout()  # 自动调整子图间距\n",
    "plt.show()\n",
    "\n"
   ]
  },
  {
   "cell_type": "code",
   "execution_count": 5,
   "metadata": {},
   "outputs": [
    {
     "data": {
      "text/plain": [
       "array([[ 1, -1, -1, -1, -1,  1, -1, -1,  1,  1, -1, -1,  1, -1, -1, -1,\n",
       "         1, -1, -1,  1,  1, -1,  1, -1,  1],\n",
       "       [ 1, -1,  1, -1, -1,  1,  1,  1,  1,  1,  1,  1, -1,  1,  1, -1,\n",
       "        -1,  1,  1,  1, -1,  1, -1, -1, -1]])"
      ]
     },
     "execution_count": 5,
     "metadata": {},
     "output_type": "execute_result"
    }
   ],
   "source": [
    "X_noises[4]"
   ]
  },
  {
   "cell_type": "code",
   "execution_count": 6,
   "metadata": {},
   "outputs": [
    {
     "ename": "TypeError",
     "evalue": "'Axes' object is not subscriptable",
     "output_type": "error",
     "traceback": [
      "\u001b[0;31m---------------------------------------------------------------------------\u001b[0m",
      "\u001b[0;31mTypeError\u001b[0m                                 Traceback (most recent call last)",
      "Cell \u001b[0;32mIn[6], line 5\u001b[0m\n\u001b[1;32m      3\u001b[0m fig, ax \u001b[38;5;241m=\u001b[39m plt\u001b[38;5;241m.\u001b[39msubplots(\u001b[38;5;241m1\u001b[39m, \u001b[38;5;241m3\u001b[39m, figsize\u001b[38;5;241m=\u001b[39m(\u001b[38;5;241m12\u001b[39m, \u001b[38;5;241m4\u001b[39m))\n\u001b[1;32m      4\u001b[0m \u001b[38;5;28;01mfor\u001b[39;00m i, (x, x_noises) \u001b[38;5;129;01min\u001b[39;00m \u001b[38;5;28menumerate\u001b[39m(\u001b[38;5;28mzip\u001b[39m(X, X_noises)):\n\u001b[0;32m----> 5\u001b[0m     \u001b[43max\u001b[49m\u001b[43m[\u001b[49m\u001b[43mi\u001b[49m\u001b[43m]\u001b[49m\u001b[43m[\u001b[49m\u001b[38;5;241;43m0\u001b[39;49m\u001b[43m]\u001b[49m\u001b[38;5;241m.\u001b[39mimshow(x\u001b[38;5;241m.\u001b[39mreshape(\u001b[38;5;241m5\u001b[39m, \u001b[38;5;241m5\u001b[39m), cmap\u001b[38;5;241m=\u001b[39m\u001b[38;5;124m'\u001b[39m\u001b[38;5;124mgray\u001b[39m\u001b[38;5;124m'\u001b[39m)\n\u001b[1;32m      6\u001b[0m     \u001b[38;5;28;01mfor\u001b[39;00m j, x_noise \u001b[38;5;129;01min\u001b[39;00m \u001b[38;5;28menumerate\u001b[39m(x_noises):\n\u001b[1;32m      7\u001b[0m         ax[i][j]\u001b[38;5;241m.\u001b[39mimshow(x_noise\u001b[38;5;241m.\u001b[39mreshape(\u001b[38;5;241m5\u001b[39m, \u001b[38;5;241m5\u001b[39m), cmap\u001b[38;5;241m=\u001b[39m\u001b[38;5;124m'\u001b[39m\u001b[38;5;124mgray\u001b[39m\u001b[38;5;124m'\u001b[39m)\n",
      "\u001b[0;31mTypeError\u001b[0m: 'Axes' object is not subscriptable"
     ]
    },
    {
     "data": {
      "image/png": "[encoded data removed]",
      "text/plain": [
       "<Figure size 1200x400 with 3 Axes>"
      ]
     },
     "metadata": {},
     "output_type": "display_data"
    }
   ],
   "source": [
    "# show all samples by 2d plot\n",
    "import matplotlib.pyplot as plt\n",
    "fig, ax = plt.subplots(1, 3, figsize=(12, 4))\n",
    "for i, (x, x_noises) in enumerate(zip(X, X_noises)):\n",
    "    ax[i][0].imshow(x.reshape(5, 5), cmap='gray')\n",
    "    for j, x_noise in enumerate(x_noises):\n",
    "        ax[i][j].imshow(x_noise.reshape(5, 5), cmap='gray')\n",
    "    ax[i].axis('off')\n",
    "plt.show()"
   ]
  },
  {
   "cell_type": "markdown",
   "metadata": {},
   "source": [
    "# bolzmann machine\n",
    "\n",
    "## idea, biological illustration\n",
    "\n",
    "Bolzmann machine is a neuron system with energy function based on each neuron activation(binary) and their connection.\n",
    "\n",
    "$E(\\bold{v}, \\bold{h}) =  - \\bold{v}^TR\\bold{v} - \\bold{v}^TW\\bold{h} - \\bold{h}^TS\\bold{h} - b^T\\bold{v} - c^T\\bold{h}$\n",
    "\n",
    "$v\\in R^n$ and $h\\in R^m$ are number of visible neuron and hidden neurons separately.\n",
    "\n",
    "> *“fire together, wire together.”*\n",
    "> \n",
    "> In bolzmann machine, connected neurons has wij > 0. \n"
   ]
  }
 ],
 "metadata": {
  "kernelspec": {
   "display_name": "MLPW-mOq2XAYX",
   "language": "python",
   "name": "python3"
  },
  "language_info": {
   "codemirror_mode": {
    "name": "ipython",
    "version": 3
   },
   "file_extension": ".py",
   "mimetype": "text/x-python",
   "name": "python",
   "nbconvert_exporter": "python",
   "pygments_lexer": "ipython3",
   "version": "3.10.0"
  }
 },
 "nbformat": 4,
 "nbformat_minor": 2
}
