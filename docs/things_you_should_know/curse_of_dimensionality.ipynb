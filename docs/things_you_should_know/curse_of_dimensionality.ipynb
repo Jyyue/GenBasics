{
 "cells": [
  {
   "cell_type": "markdown",
   "metadata": {},
   "source": [
    "# curse of dimensionality\n",
    "\n",
    "In machine learning, we are trying to model data distribution, though real data is diverse, when buliding models, data are often mapped to points in vector space.\n",
    "\n",
    "Most operation of data analysis happen in this vector space, such as regression or classification.\n",
    "\n",
    "If this vector space has high dimension, some problems occur when performing many of the above algorithms.\n",
    "\n",
    "leading questions:\n",
    "\n",
    "- As you've seem many ML problems, what a high dimensional space looks like? \n",
    "\n",
    "- What operations we want for high dimensional space?\n",
    "\n",
    "- Are those operations affected by dimension?\n",
    "\n",
    "- What are the solution to overcome this?"
   ]
  },
  {
   "cell_type": "markdown",
   "metadata": {},
   "source": [
    "# References?(maybe)\n",
    "\n",
    "https://stats.stackexchange.com/questions/35276/svm-overfitting-curse-of-dimensionality\n",
    "\n",
    "https://stats.stackexchange.com/questions/186184/does-dimensionality-curse-effect-some-models-more-than-others\n",
    "\n",
    "https://www.linkedin.com/pulse/curse-dimensionality-768-dimensional-word-embeddings-llm-wadkar-h5lde"
   ]
  },
  {
   "cell_type": "markdown",
   "metadata": {},
   "source": [
    "# The curse of dimensionality comes in many ways\n",
    "\n",
    "- in high dimensional space, distance is ill defined. Most points are far away from each other, that is how seperatin algorithm becomes meaningless: It is trivial to seperate points far away from each other.\n",
    "\n",
    "- in high dimensional space, many algorithm comes to o(exp^n) complexity, making it impossible for implication.\n",
    "\n"
   ]
  }
 ],
 "metadata": {
  "kernelspec": {
   "display_name": "MLPW-mOq2XAYX",
   "language": "python",
   "name": "python3"
  },
  "language_info": {
   "name": "python",
   "version": "3.10.0"
  }
 },
 "nbformat": 4,
 "nbformat_minor": 2
}
